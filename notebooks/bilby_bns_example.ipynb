{
 "cells": [
  {
   "cell_type": "markdown",
   "id": "06070bf3",
   "metadata": {},
   "source": [
    "# BILBY example with BNS data"
   ]
  },
  {
   "cell_type": "code",
   "execution_count": 12,
   "id": "461e2e7f",
   "metadata": {},
   "outputs": [],
   "source": [
    "import numpy as np\n",
    "import bilby, h5py\n",
    "from gwpy.timeseries import TimeSeries"
   ]
  },
  {
   "cell_type": "code",
   "execution_count": 1,
   "id": "f2abf075",
   "metadata": {},
   "outputs": [],
   "source": [
    "bns_filename = '/ceph/submit/data/user/k/kyoon/KYoonStudy/models/BNS/bns_waveforms.hdf5'"
   ]
  },
  {
   "cell_type": "code",
   "execution_count": null,
   "id": "03b4919e",
   "metadata": {},
   "outputs": [],
   "source": [
    "# Set the interferometers\n",
    "H1 = bilby.gw.detector.get_empty_interferometer('H1')\n",
    "L1 = bilby.gw.detector.get_empty_interferometer('L1')"
   ]
  },
  {
   "cell_type": "code",
   "execution_count": 13,
   "id": "0130b8d1",
   "metadata": {},
   "outputs": [],
   "source": [
    "# Fetch the timeseries strain data\n",
    "with h5py.File(bns_filename, 'r') as f:\n",
    "    # === Access metadata ===\n",
    "    coalescence_time = f.attrs['coalescence_time'] # GPS time of coalescence\n",
    "    duration = f.attrs['duration'] # Duration of the waveform in seconds\n",
    "    ifos = f.attrs['ifos'] # List of interferometers\n",
    "    length = f.attrs['length'] # Number of samples.\n",
    "    num_injections = f.attrs['num_injections'] # Number of waveform injections.\n",
    "    sample_rate = f.attrs['sample_rate'] # Sample rate in Hz\n",
    "\n",
    "    # === Choose one injection (e.g., the 0th) ===\n",
    "    waveform_idx = 0\n",
    "    h1_strain = f['waveforms/h1'][waveform_idx]\n",
    "    l1_strain = f['waveforms/l1'][waveform_idx]\n",
    "    m1 = f['parameters/mass_1'][waveform_idx]\n",
    "    m2 = f['parameters/mass_2'][waveform_idx]\n",
    "    chirp_mass = (m1+m2)**(0.6)/(m1+m2)**(0.2)\n",
    "\n",
    "    start_time = coalescence_time - duration\n",
    "    times = np.linspace(start_time, coalescence_time, int(duration * sample_rate))\n",
    "\n",
    "    h1_ts = TimeSeries(h1_strain, times=times, name='H1')\n",
    "    l1_ts = TimeSeries(l1_strain, times=times, name='L1')"
   ]
  },
  {
   "cell_type": "code",
   "execution_count": 27,
   "id": "6c79f6e4",
   "metadata": {},
   "outputs": [],
   "source": [
    "# Set strain data directly for each interferometer\n",
    "H1.set_strain_data_from_gwpy_timeseries(h1_ts)\n",
    "L1.set_strain_data_from_gwpy_timeseries(l1_ts)"
   ]
  },
  {
   "cell_type": "code",
   "execution_count": 29,
   "id": "91ddd172",
   "metadata": {},
   "outputs": [
    {
     "name": "stderr",
     "output_type": "stream",
     "text": [
      "16:13 bilby INFO    : No prior given, using default BNS priors in /work/submit/kyoon/miniforge3/envs/ssm/lib/python3.10/site-packages/bilby/gw/prior_files/aligned_spins_bns_tides_on.prior.\n"
     ]
    }
   ],
   "source": [
    "# Load priors\n",
    "prior = bilby.gw.prior.BNSPriorDict()"
   ]
  },
  {
   "cell_type": "code",
   "execution_count": 30,
   "id": "8ff0baaf",
   "metadata": {},
   "outputs": [
    {
     "data": {
      "text/plain": [
       "{'mass_1': Constraint(minimum=0.5, maximum=5, name='mass_1', latex_label='$m_1$', unit=None),\n",
       " 'mass_2': Constraint(minimum=0.5, maximum=5, name='mass_2', latex_label='$m_2$', unit=None),\n",
       " 'mass_ratio': bilby.gw.prior.UniformInComponentsMassRatio(minimum=0.125, maximum=1, name='mass_ratio', latex_label='$q$', unit=None, boundary=None, equal_mass=False),\n",
       " 'chirp_mass': bilby.gw.prior.UniformInComponentsChirpMass(minimum=0.4, maximum=4.4, name='chirp_mass', latex_label='$\\\\mathcal{M}$', unit=None, boundary=None),\n",
       " 'luminosity_distance': bilby.gw.prior.UniformSourceFrame(minimum=100.0, maximum=5000.0, cosmology='Planck15', name='luminosity_distance', latex_label='$d_L$', unit='Mpc', boundary=None),\n",
       " 'dec': Cosine(minimum=-1.5707963267948966, maximum=1.5707963267948966, name='dec', latex_label='$\\\\mathrm{DEC}$', unit=None, boundary=None),\n",
       " 'ra': Uniform(minimum=0, maximum=6.283185307179586, name='ra', latex_label='$\\\\mathrm{RA}$', unit=None, boundary='periodic'),\n",
       " 'theta_jn': Sine(minimum=0, maximum=3.141592653589793, name='theta_jn', latex_label='$\\\\theta_{JN}$', unit=None, boundary=None),\n",
       " 'psi': Uniform(minimum=0, maximum=3.141592653589793, name='psi', latex_label='$\\\\psi$', unit=None, boundary='periodic'),\n",
       " 'phase': Uniform(minimum=0, maximum=6.283185307179586, name='phase', latex_label='$\\\\phi$', unit=None, boundary='periodic'),\n",
       " 'chi_1': bilby.gw.prior.AlignedSpin(a_prior=Uniform(minimum=0, maximum=0.99, name=None, latex_label=None, unit=None, boundary=None), z_prior=Uniform(minimum=-1, maximum=1, name=None, latex_label=None, unit=None, boundary=None), name='chi_1', latex_label='$\\\\chi_1$', unit=None, boundary=None, minimum=-0.99, maximum=0.99, num_interp=100000),\n",
       " 'chi_2': bilby.gw.prior.AlignedSpin(a_prior=Uniform(minimum=0, maximum=0.99, name=None, latex_label=None, unit=None, boundary=None), z_prior=Uniform(minimum=-1, maximum=1, name=None, latex_label=None, unit=None, boundary=None), name='chi_2', latex_label='$\\\\chi_2$', unit=None, boundary=None, minimum=-0.99, maximum=0.99, num_interp=100000),\n",
       " 'lambda_1': Uniform(minimum=0, maximum=5000, name='lambda_1', latex_label='$\\\\Lambda_1$', unit=None, boundary=None),\n",
       " 'lambda_2': Uniform(minimum=0, maximum=5000, name='lambda_2', latex_label='$\\\\Lambda_2$', unit=None, boundary=None)}"
      ]
     },
     "execution_count": 30,
     "metadata": {},
     "output_type": "execute_result"
    }
   ],
   "source": [
    "prior"
   ]
  },
  {
   "cell_type": "code",
   "execution_count": null,
   "id": "6089e1e8",
   "metadata": {},
   "outputs": [],
   "source": [
    "### TODO: fix ###\n",
    "# Set up the likelihood (example: using a standard GW likelihood)\n",
    "likelihood = bilby.gw.likelihood.GravitationalWaveTransient(\n",
    "    interferometers=bilby.gw.detector.networks.InterferometerList([H1, L1]),\n",
    "    waveform_generator=None,  # You need to set up a waveform generator as per your data/model\n",
    "    time_marginalization=True,\n",
    "    phase_marginalization=True,\n",
    "    distance_marginalization=True,\n",
    ")\n",
    "\n",
    "# Run the sampler to infer posteriors\n",
    "result = bilby.run_sampler(\n",
    "    likelihood=likelihood,\n",
    "    priors=prior,\n",
    "    sampler='dynesty',\n",
    "    nlive=500,\n",
    "    outdir='outdir',\n",
    "    label='bns_example'\n",
    ")"
   ]
  },
  {
   "cell_type": "code",
   "execution_count": null,
   "id": "f2bd4e39",
   "metadata": {},
   "outputs": [],
   "source": []
  }
 ],
 "metadata": {
  "kernelspec": {
   "display_name": "ssm",
   "language": "python",
   "name": "python3"
  },
  "language_info": {
   "codemirror_mode": {
    "name": "ipython",
    "version": 3
   },
   "file_extension": ".py",
   "mimetype": "text/x-python",
   "name": "python",
   "nbconvert_exporter": "python",
   "pygments_lexer": "ipython3",
   "version": "3.10.13"
  }
 },
 "nbformat": 4,
 "nbformat_minor": 5
}
